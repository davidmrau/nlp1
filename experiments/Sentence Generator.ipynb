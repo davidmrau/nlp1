{
 "cells": [
  {
   "cell_type": "code",
   "execution_count": 18,
   "metadata": {
    "collapsed": true
   },
   "outputs": [],
   "source": [
    "import collections\n",
    "import re\n",
    "import math\n",
    "import numpy as np"
   ]
  },
  {
   "cell_type": "code",
   "execution_count": 4,
   "metadata": {
    "collapsed": true
   },
   "outputs": [],
   "source": [
    "# Read tokens from Penn Treebank\n",
    "file = open(\"sec02-21.gold.tagged\", \"r\") \n",
    "content = file.read()\n",
    "tokens = content.split()\n",
    "\n",
    "# Find the 'n' most common words for tags in taglist in Penn Treebank\n",
    "def most_common_words_for_tags(pos_list, n = 3):\n",
    "    pos_list_regex = \"|\".join(pos_list)\n",
    "    pos_regex = f\"\\|({pos_list_regex})$\"\n",
    "    word_regex = r\"(^[a-zA-Z]+)\\|\"\n",
    "    \n",
    "    counters = {pos : collections.Counter() for pos in pos_list}\n",
    "    for t in tokens:\n",
    "        if re.search(pos_regex, t) and re.search(word_regex, t):\n",
    "            pos = re.search(pos_regex, t).group(1) \n",
    "            word = re.search(word_regex, t).group(1)\n",
    "            counters[pos][word] += 1\n",
    "\n",
    "    result = {}\n",
    "    for pos in counters.keys():\n",
    "        result[pos] = [w for w, _ in counters[pos].most_common(n)]\n",
    "\n",
    "    return result\n",
    "    \n",
    "# Find most common noun-likes and present tense verbs\n",
    "common_nouns_and_verbs = most_common_words_for_tags(['NN', 'NNS', 'NNP', 'NNPS', 'PRP','VBP', 'VBZ'], n = 100)\n",
    "\n"
   ]
  },
  {
   "cell_type": "code",
   "execution_count": 5,
   "metadata": {},
   "outputs": [
    {
     "name": "stdout",
     "output_type": "stream",
     "text": [
      "['company', 'year', 'market', 'share', 'stock', 'trading', 'president', 'business', 'quarter', 'government', 'time', 'week', 'price', 'group', 'interest', 'yesterday', 'industry', 'unit', 'money', 'month', 'rate', 'investment', 'state', 'chairman', 'income', 'profit', 'program', 'bank', 'firm', 'debt', 'part', 'plan', 'sale', 'issue', 'tax', 'way', 'vice', 'loss', 'growth', 'executive', 'day', 'bid', 'cash', 'revenue', 'officer', 'director', 'concern', 'board', 'computer', 'case', 'number', 'spokesman', 'agreement', 'stake', 'value', 'end', 'contract', 'system', 'bill', 'oil', 'offer', 'law', 'index', 'agency', 'insurance', 'dollar', 'maker', 'period', 'office', 'world', 'exchange', 'trade', 'capital', 'production', 'court', 'management', 'analyst', 'economy', 'today', 'work', 'policy', 'bond', 'country', 'increase', 'point', 'chief', 'earthquake', 'report', 'power', 'takeover', 'problem', 'home', 'news', 'plant', 'credit', 'fund', 'research', 'example', 'area', 'junk']\n",
      "['years', 'shares', 'sales', 'companies', 'cents', 'prices', 'people', 'months', 'bonds', 'investors', 'earnings', 'stocks', 'officials', 'days', 'rates', 'products', 'analysts', 'funds', 'securities', 'operations', 'markets', 'banks', 'issues', 'costs', 'assets', 'traders', 'loans', 'problems', 'losses', 'results', 'futures', 'firms', 'businesses', 'weeks', 'points', 'services', 'employees', 'executives', 'orders', 'plans', 'members', 'others', 'changes', 'customers', 'workers', 'notes', 'yen', 'times', 'dollars', 'gains', 'units', 'things', 'rights', 'programs', 'computers', 'shareholders', 'options', 'contracts', 'terms', 'charges', 'bills', 'systems', 'managers', 'efforts', 'Sales', 'groups', 'directors', 'holders', 'cases', 'cars', 'countries', 'talks', 'claims', 'interests', 'makers', 'figures', 'profits', 'payments', 'levels', 'leaders', 'clients', 'stores', 'states', 'goods', 'investments', 'lawyers', 'increases', 'reports', 'buyers', 'producers', 'data', 'lines', 'hours', 'plants', 'concerns', 'areas', 'marks', 'rules', 'projects', 'parts']\n",
      "['are', 'have', 'do', 'say', 'think', 'want', 'expect', 'include', 'believe', 'make', 'need', 'know', 'see', 'get', 'seem', 'remain', 'continue', 'show', 'buy', 'feel', 'am', 'go', 'sell', 'take', 'use', 'plan', 'look', 'tend', 'hope', 'argue', 'give', 'pay', 'appear', 'suggest', 'fear', 'find', 'come', 'offer', 'contend', 'agree', 'provide', 'try', 'insist', 'account', 'hold', 'call', 'note', 'consider', 'stand', 'indicate', 'maintain', 'work', 'require', 'face', 'vary', 'own', 'estimate', 'become', 'reflect', 'carry', 'worry', 'Do', 'like', 'predict', 'live', 'wish', 'put', 'move', 'start', 'allow', 'run', 'leave', 'favor', 'oppose', 'wonder', 'lose', 'represent', 'spend', 'add', 'produce', 'question', 'mean', 'claim', 'receive', 'operate', 'bring', 'help', 'range', 'Are', 'begin', 'keep', 'prefer', 'charge', 'realize', 'fall', 'stay', 'hear', 'view', 'point', 'understand']\n",
      "['is', 'has', 'says', 'does', 'expects', 'plans', 'makes', 'remains', 'wants', 'owns', 'includes', 'seems', 'adds', 'continues', 'calls', 'comes', 'means', 'believes', 'holds', 'provides', 'takes', 'appears', 'gets', 'goes', 'needs', 'hopes', 'represents', 'gives', 'reflects', 'faces', 'shows', 'notes', 'thinks', 'follows', 'succeeds', 'operates', 'offers', 'runs', 'puts', 'sells', 'works', 'suggests', 'intends', 'looks', 'contends', 'estimates', 'uses', 'knows', 'claims', 'sees', 'carries', 'seeks', 'requires', 'recalls', 'begins', 'turns', 'Is', 'costs', 'indicates', 'compares', 'helps', 'happens', 'becomes', 'allows', 'lies', 'argues', 'pays', 'Says', 'reports', 'tells', 'expires', 'points', 'manages', 'concedes', 'heads', 'controls', 'leads', 'leaves', 'produces', 'stands', 'depends', 'raises', 'plays', 'covers', 'sets', 'explains', 'agrees', 'increases', 'finds', 'asks', 'moves', 'accounts', 'figures', 'charges', 'declines', 'insists', 'buys', 'involves', 'ends', 'admits']\n"
     ]
    }
   ],
   "source": [
    "print(common_nouns_and_verbs['NN'])\n",
    "print(common_nouns_and_verbs['NNS'])\n",
    "print(common_nouns_and_verbs['VBP'])\n",
    "print(common_nouns_and_verbs['VBZ'])"
   ]
  },
  {
   "cell_type": "code",
   "execution_count": 7,
   "metadata": {},
   "outputs": [
    {
     "name": "stdout",
     "output_type": "stream",
     "text": [
      "(sentence, options, correct-option):\n"
     ]
    },
    {
     "data": {
      "text/plain": [
       "[('The product of the company', ['looks', 'look'], 'looks'),\n",
       " ('The products of the company', ['looks', 'look'], 'look'),\n",
       " ('The product of the companies', ['looks', 'look'], 'looks'),\n",
       " ('The products of the companies', ['looks', 'look'], 'look'),\n",
       " ('The product that the company', ['produces', 'produce'], 'produces'),\n",
       " ('The products that the company', ['produces', 'produce'], 'produces'),\n",
       " ('The product that the companies', ['produces', 'produce'], 'produce'),\n",
       " ('The products that the companies', ['produces', 'produce'], 'produce'),\n",
       " ('The product that the company produces', ['looks', 'look'], 'looks'),\n",
       " ('The products that the company produces', ['looks', 'look'], 'look'),\n",
       " ('The product that the companies produce', ['looks', 'look'], 'looks'),\n",
       " ('The products that the companies produce', ['looks', 'look'], 'look')]"
      ]
     },
     "execution_count": 7,
     "metadata": {},
     "output_type": "execute_result"
    }
   ],
   "source": [
    "# Compose sentence prefixes with frequent words.\n",
    "# The sentence prefixes are intended to test intervening nouns.\n",
    "words = {\n",
    "    \"NN1\" : \"product\",\n",
    "    \"NNS1\" : \"products\",\n",
    "    \"NN2\" : \"company\",\n",
    "    \"NNS2\" : \"companies\",\n",
    "    \"VBP1\" : \"looks\",\n",
    "    \"VBZ1\" : \"look\",\n",
    "    \"VBP2\" : \"produces\",\n",
    "    \"VBZ2\" : \"produce\",\n",
    "}\n",
    "sentences = [\n",
    "    (f\"The {words['NN1']} of the {words['NN2']}\", [words['VBP1'], words['VBZ1']], words['VBP1']),\n",
    "    (f\"The {words['NNS1']} of the {words['NN2']}\", [words['VBP1'], words['VBZ1']], words['VBZ1']),\n",
    "    (f\"The {words['NN1']} of the {words['NNS2']}\", [words['VBP1'], words['VBZ1']], words['VBP1']),\n",
    "    (f\"The {words['NNS1']} of the {words['NNS2']}\", [words['VBP1'], words['VBZ1']], words['VBZ1']),\n",
    "\n",
    "    (f\"The {words['NN1']} that the {words['NN2']}\", [words['VBP2'], words['VBZ2']], words['VBP2']),\n",
    "    (f\"The {words['NNS1']} that the {words['NN2']}\", [words['VBP2'], words['VBZ2']], words['VBP2']),\n",
    "    (f\"The {words['NN1']} that the {words['NNS2']}\", [words['VBP2'], words['VBZ2']], words['VBZ2']),\n",
    "    (f\"The {words['NNS1']} that the {words['NNS2']}\", [words['VBP2'], words['VBZ2']], words['VBZ2']),\n",
    "\n",
    "    (f\"The {words['NN1']} that the {words['NN2']} {words['VBP2']}\", [words['VBP1'], words['VBZ1']], words['VBP1']),\n",
    "    (f\"The {words['NNS1']} that the {words['NN2']} {words['VBP2']}\", [words['VBP1'], words['VBZ1']], words['VBZ1']),\n",
    "    (f\"The {words['NN1']} that the {words['NNS2']} {words['VBZ2']}\", [words['VBP1'], words['VBZ1']], words['VBP1']),\n",
    "    (f\"The {words['NNS1']} that the {words['NNS2']} {words['VBZ2']}\", [words['VBP1'], words['VBZ1']], words['VBZ1'])\n",
    "]\n",
    "\n",
    "print(\"(sentence, options, correct-option):\")\n",
    "sentences"
   ]
  },
  {
   "cell_type": "code",
   "execution_count": null,
   "metadata": {
    "collapsed": true
   },
   "outputs": [],
   "source": [
    "# Compose sentence prefixes with frequent words.\n",
    "# The sentence prefixes are intended to test long distance.\n"
   ]
  },
  {
   "cell_type": "code",
   "execution_count": 50,
   "metadata": {
    "collapsed": true
   },
   "outputs": [],
   "source": [
    "# Compose sentence prefixes with frequent words.\n",
    "# The sentence prefixes are intended to test long distance in combination with intervening nouns.\n"
   ]
  },
  {
   "cell_type": "code",
   "execution_count": 49,
   "metadata": {},
   "outputs": [],
   "source": []
  },
  {
   "cell_type": "code",
   "execution_count": null,
   "metadata": {
    "collapsed": true
   },
   "outputs": [],
   "source": []
  },
  {
   "cell_type": "code",
   "execution_count": null,
   "metadata": {
    "collapsed": true
   },
   "outputs": [],
   "source": []
  }
 ],
 "metadata": {
  "kernelspec": {
   "display_name": "Python 3",
   "language": "python",
   "name": "python3"
  },
  "language_info": {
   "codemirror_mode": {
    "name": "ipython",
    "version": 3
   },
   "file_extension": ".py",
   "mimetype": "text/x-python",
   "name": "python",
   "nbconvert_exporter": "python",
   "pygments_lexer": "ipython3",
   "version": "3.6.1"
  }
 },
 "nbformat": 4,
 "nbformat_minor": 2
}

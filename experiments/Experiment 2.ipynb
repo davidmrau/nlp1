{
 "cells": [
  {
   "cell_type": "code",
   "execution_count": 125,
   "metadata": {
    "collapsed": true
   },
   "outputs": [],
   "source": [
    "# do required imports\n",
    "import difflib\n",
    "import torch\n",
    "from torch.autograd import Variable\n",
    "import torch.nn as nn\n",
    "import pickle\n",
    "import numpy as np\n",
    "import matplotlib.pyplot as plt\n",
    "np.random.seed(2834)\n",
    "import matplotlib.ticker as mtick\n",
    "import matplotlib as matplotlib\n",
    "matplotlib.rcParams.update({'font.size': 12})"
   ]
  },
  {
   "cell_type": "code",
   "execution_count": 126,
   "metadata": {
    "collapsed": true
   },
   "outputs": [],
   "source": [
    "lm = torch.load('model.pt', map_location=lambda storage, loc: storage)"
   ]
  },
  {
   "cell_type": "code",
   "execution_count": 127,
   "metadata": {
    "collapsed": true
   },
   "outputs": [],
   "source": [
    "# Load dictionary word --> id \n",
    "dictionary = pickle.load(open('dict', 'rb'))\n",
    "\n",
    "# set the maximum sequence length\n",
    "max_seq_len = 50\n",
    "\n",
    "# function to transform sentence into word id's and put them in a pytorch Variable\n",
    "# NB Assumes the sentence is already tokenised!\n",
    "def tokenise(sentence, dictionary):\n",
    "    words = sentence.split(' ')\n",
    "    l = len(words)\n",
    "    assert l <= max_seq_len, \"sentence too long\"\n",
    "    token = 0\n",
    "    ids = torch.LongTensor(l)\n",
    "\n",
    "    for word in words:\n",
    "        try:\n",
    "            ids[token] = dictionary.word2idx[word]\n",
    "        except KeyError:\n",
    "            print( word)\n",
    "            raw_input()\n",
    "            ids[token] = dictionary.word2idx['<unk>']\n",
    "        token += 1\n",
    "    return ids"
   ]
  },
  {
   "cell_type": "code",
   "execution_count": 128,
   "metadata": {
    "collapsed": true
   },
   "outputs": [],
   "source": [
    "# load pytorch softmax function\n",
    "softmax = nn.Softmax()\n",
    "\n",
    "def evaluate(model, dictionary, sentence, check_words):\n",
    "    # Turn on evaluation mode which disables dropout.\n",
    "    model.eval()\n",
    "    \n",
    "    # number of tokens (= output size)\n",
    "    ntokens = len(dictionary)\n",
    "    hidden = model.init_hidden(1)\n",
    "    \n",
    "    # tokenise the sentence, put in torch Variable\n",
    "    test_data = tokenise(sentence, dictionary)\n",
    "    input_data = Variable(test_data, volatile=True)\n",
    "\n",
    "    # run the model, compute probabilities by applying softmax\n",
    "    output, hidden = model(input_data, hidden)\n",
    "    output_flat = output.view(-1, ntokens)\n",
    "    logits = output[-1, :]\n",
    "    sm = softmax(logits).view(ntokens)\n",
    "    \n",
    "    # get probabilities of certain words by looking up their\n",
    "    # indices and print them\n",
    "    def get_prob(word):\n",
    "        return sm[dictionary.word2idx[word]].data[0]\n",
    "\n",
    "    #print (sentence, '\\n')\n",
    "    #print ('\\n'.join(\n",
    "    #        ['%s: %f' % (word, get_prob(word)) for word in check_words]\n",
    "    #        ) )\n",
    "    return  [{word : get_prob(word)} for word in check_words]"
   ]
  },
  {
   "cell_type": "code",
   "execution_count": 129,
   "metadata": {},
   "outputs": [],
   "source": [
    "# Compose sentence prefixes with frequent words.\n",
    "# The sentence prefixes are intended to test intervening nouns.\n",
    "\n",
    "\n",
    "NN = ['company', 'year', 'market', 'share', 'stock', 'system', 'president', 'business', \n",
    "      'quarter', 'government', 'time', 'week', 'price', 'group', 'interest',\n",
    "      'industry', 'unit','month', 'rate', 'investment', 'state', 'producer', 'income', \n",
    "      'program', 'bank', 'part', 'plan', 'sale', 'issue', 'tax', 'way', 'loss', 'executive', 'day', 'bid', 'data', 'line','hour', 'plant', 'concern']\n",
    "\n",
    "NNS = ['companies', 'years', 'markets', 'shares', 'stocks', 'systems', 'presidents', \n",
    "       'businesses', 'quarters', 'governments', 'times', 'weeks', 'prices', 'groups', 'interests', 'industries', \n",
    "       'units', 'months', 'rates', 'investments', 'states', 'producers', 'incomes', 'programs', 'banks', 'parts', 'plans', \n",
    "      'sales', 'issues', 'taxes', 'ways', 'losses', 'executives', 'days', 'bids', 'data', 'lines', 'hours', 'plants', 'concerns',]\n",
    "\n",
    "VBP = ['are', 'have', 'do', 'say', 'think', 'want', 'expect', 'include', 'ask', \n",
    "       'make', 'need', 'know', 'see', 'get', 'seem', 'remain', 'continue', 'show', 'buy', \n",
    "       'feel', 'go', 'sell', 'take', 'use', 'plan', 'look', 'tend', 'hope', 'argue', 'give',\n",
    "       'pay', 'appear', 'suggest', 'fear', 'find', 'come', 'offer', 'contend', 'agree', 'provide']\n",
    "\n",
    "VBZ = ['is', 'has', 'does', 'says', 'thinks', 'wants', 'expects', 'includes', 'asks', 'makes',\n",
    "      'needs', 'knows', 'sees', 'gets', 'seems', 'remains', 'continues', 'shows', 'buys', 'feels', 'goes', 'sells',\n",
    "      'takes', 'uses', 'plans', 'looks', 'tends', 'hopes', 'argues', 'gives', 'pays', 'appears', 'suggests', 'fears',\n",
    "      'finds', 'comes', 'offers', 'contends', 'agrees', 'provides']\n",
    "\n",
    "attractor_helpers = ['in the', 'by the', 'close to the', 'of the', 'at the', 'and not the', 'without']\n",
    "\n"
   ]
  },
  {
   "cell_type": "code",
   "execution_count": 130,
   "metadata": {},
   "outputs": [],
   "source": [
    "def calculate_error_rate(sentences):\n",
    "    result = calculate_errors(sentences)\n",
    "    #print(result)\n",
    "    return 1- sum(result)/len(result)\n",
    "    \n",
    "def calculate_errors(sentences):\n",
    "    return [1 if is_correct_prediction(s[0], s[1], s[2]) else 0 for s in sentences]\n",
    "\n",
    "def is_correct_prediction(sentence, check_words, correct_word):\n",
    "    predictions = evaluate(lm, dictionary, sentence, check_words)\n",
    "    words,preds = zip(*list(map(lambda x: list(x.items())[0],predictions)))\n",
    "    predicted_word = words[np.argmax(preds)]\n",
    "    return predicted_word == correct_word"
   ]
  },
  {
   "cell_type": "code",
   "execution_count": 131,
   "metadata": {
    "collapsed": true
   },
   "outputs": [],
   "source": [
    "# Compose sentence prefixes with frequent words with one and without attractors\n",
    "\n",
    "def gen_no_attractors(num_sentences, num_words, NN, NNS, VBP, VBZ):\n",
    "    assert(len(NN) == len(NNS) == len(VBP) == len(VBZ))\n",
    "    sentences_si = []\n",
    "    sentences_pl =[]\n",
    "    indices_x = []\n",
    "    indices_u = []\n",
    "    for i in range(num_sentences):\n",
    "        while True:\n",
    "            x,y = np.random.randint(num_words, size=2)\n",
    "            if (x,y) not in indices_x:\n",
    "                indices_x.append((x,y))\n",
    "                break\n",
    "        while True:\n",
    "            u,v = np.random.randint(num_words, size=2)\n",
    "            if (u,v) not in indices_u:\n",
    "                indices_u.append((u,v))\n",
    "                break\n",
    "        sentences_si.append((f\"the {NN[x]}\", [VBP[y], VBZ[y]], VBZ[y],))\n",
    "        sentences_pl.append((f\"the {NNS[u]}\", [VBP[v], VBZ[v]], VBP[v],))\n",
    "    return sentences_si, sentences_pl\n",
    "\n",
    "def gen_one_attractor(num_sentences, num_words, same, NN, NNS, VBP, VBZ, \n",
    "                      template = \"the {} of the {}\", first_dep = True):\n",
    "\n",
    "    assert(len(NN) == len(NNS) == len(VBP) == len(VBZ))\n",
    "    sentences_si = []\n",
    "    sentences_pl =[]\n",
    "    indices = []\n",
    "    for i in range(num_sentences):\n",
    "        while True:\n",
    "            x,y,z = np.random.randint(num_words, size=3)\n",
    "            if (x,y,z) not in indices:\n",
    "                indices.append((x,y,z))\n",
    "                break\n",
    "        if(same):\n",
    "            sentences_si.append((template.format(NN[x], NN[z]), [VBP[y], VBZ[y]], VBZ[y],))\n",
    "            sentences_pl.append((template.format(NNS[x], NNS[z]), [VBP[y], VBZ[y]], VBP[y],))\n",
    "        elif first_dep:\n",
    "            sentences_si.append((template.format(NN[x], NNS[z]), [VBP[y], VBZ[y]], VBZ[y],))\n",
    "            sentences_pl.append((template.format(NNS[x], NN[z]), [VBP[y], VBZ[y]], VBP[y],))\n",
    "        else:\n",
    "            sentences_si.append((template.format(NNS[x], NN[z]), [VBP[y], VBZ[y]], VBZ[y],))\n",
    "            sentences_pl.append((template.format(NN[x], NNS[z]), [VBP[y], VBZ[y]], VBP[y],))\n",
    "    return sentences_si, sentences_pl\n",
    "\n",
    "num_sentences = 1000\n",
    "num_words = len(NN)\n",
    "\n"
   ]
  },
  {
   "cell_type": "code",
   "execution_count": 132,
   "metadata": {
    "collapsed": true
   },
   "outputs": [],
   "source": [
    "templates = [\n",
    "    \"the {} in the {}\", # attractor\n",
    "    \"the {} by the {}\", # attractor\n",
    "    \"the {} of the {}\", # attractor\n",
    "    \"the {} near the {}\", # attractor\n",
    "    \"the {} at the {}\", # attractor\n",
    "    \"the {} without the {}\", # attractor\n",
    "    \"the {} the {}\", \n",
    "    \"the {} that the {}\",\n",
    "    \"the {} whether the {}\",\n",
    "]"
   ]
  },
  {
   "cell_type": "code",
   "execution_count": 133,
   "metadata": {},
   "outputs": [
    {
     "name": "stdout",
     "output_type": "stream",
     "text": [
      "the {} in the {}\n",
      "the {} by the {}\n",
      "the {} of the {}\n",
      "the {} near the {}\n",
      "the {} at the {}\n",
      "the {} without the {}\n",
      "the {} the {}\n",
      "the {} that the {}\n",
      "the {} whether the {}\n",
      "{'the {} in the {}': 0.5895, 'the {} by the {}': 0.687, 'the {} of the {}': 0.6125, 'the {} near the {}': 0.6275, 'the {} at the {}': 0.704, 'the {} without the {}': 0.6719999999999999, 'the {} the {}': 0.7815, 'the {} that the {}': 0.788, 'the {} whether the {}': 0.8520000000000001}\n"
     ]
    }
   ],
   "source": [
    "num_sentences = 1000\n",
    "\n",
    "results = {}\n",
    "for t in templates:\n",
    "    np.random.seed(100) #generate from same verbs and nouns for each template\n",
    "    print (t)\n",
    "    si, pl = gen_one_attractor(\n",
    "        num_sentences, \n",
    "        num_words, \n",
    "        False, \n",
    "        NN, \n",
    "        NNS, \n",
    "        VBP, \n",
    "        VBZ, \n",
    "        template = t, \n",
    "        first_dep = True)\n",
    "    si_most_recent_noun_rate = calculate_error_rate(si)\n",
    "    pl_most_recent_noun_rate = calculate_error_rate(pl)\n",
    "    most_recent_noun_rate = 0.5*(pl_most_recent_noun_rate + si_most_recent_noun_rate)\n",
    "    results[t] = most_recent_noun_rate\n",
    "\n",
    "\n",
    "print (results)"
   ]
  },
  {
   "cell_type": "code",
   "execution_count": 134,
   "metadata": {},
   "outputs": [],
   "source": [
    "conj_template = \"the {} and the {}\"\n",
    "\n",
    "np.random.seed(100) #generate from same verbs and nouns for each template\n",
    "\n",
    "si_conj, _ = gen_one_attractor(\n",
    "    num_sentences, \n",
    "    num_words, \n",
    "    True, \n",
    "    NN, \n",
    "    NNS, \n",
    "    VBP, \n",
    "    VBZ, \n",
    "    template = conj_template)\n",
    "\n",
    "si_conj_last_noun_rate = 1 - calculate_error_rate(si_conj) #error means plural prediction which is actually good \n"
   ]
  },
  {
   "cell_type": "code",
   "execution_count": 135,
   "metadata": {},
   "outputs": [],
   "source": [
    "singular_template = \"the {} 's {}\"\n",
    "plural_template = \"the {} ' {}\"\n",
    "possessive_template = f\"{singular_template} ({plural_template})\"\n",
    "\n",
    "np.random.seed(100) #generate from same verbs and nouns for each template\n",
    "\n",
    "si_possesive, _ = gen_one_attractor(\n",
    "    num_sentences, \n",
    "    num_words, \n",
    "    False, \n",
    "    NN, \n",
    "    NNS, \n",
    "    VBP, \n",
    "    VBZ, \n",
    "    template = singular_template, first_dep=True)\n",
    "\n",
    "np.random.seed(100) #generate from same verbs and nouns for each template\n",
    "\n",
    "_, pl_possesive = gen_one_attractor(\n",
    "    num_sentences, \n",
    "    num_words, \n",
    "    False, \n",
    "    NN, \n",
    "    NNS, \n",
    "    VBP, \n",
    "    VBZ, \n",
    "    template = plural_template, first_dep=True)\n",
    "\n",
    "si_possessive_success_rate = calculate_error_rate(si_possesive)\n",
    "pl_possessive_success_rate = calculate_error_rate(pl_possesive)\n",
    "possessive_last_noun_rate = 0.5*(si_possessive_success_rate + pl_possessive_success_rate)"
   ]
  },
  {
   "cell_type": "code",
   "execution_count": 136,
   "metadata": {},
   "outputs": [
    {
     "data": {
      "image/png": "[encoded data removed]",
      "text/plain": [
       "<matplotlib.figure.Figure at 0x7fa6749e37b8>"
      ]
     },
     "metadata": {},
     "output_type": "display_data"
    }
   ],
   "source": [
    "all_templates = [conj_template] + templates + [possessive_template]\n",
    "template_names = [f\"T{i + 1}\" for i in range(0, len(all_templates))]\n",
    "last_noun_rates = [si_conj_last_noun_rate] + list(results.values()) + [possessive_last_noun_rate]\n",
    "y_pos = np.arange(len(all_templates))\n",
    "plt.bar(y_pos, last_noun_rates, align='center', color=['r', 'r', 'r', 'r', 'r', 'r', 'r', 'g', 'g', 'g', 'g'])\n",
    "plt.xticks(y_pos, template_names)\n",
    "plt.ylabel('Last Noun Preference Rate')\n",
    "plt.title('Templates')\n",
    " \n",
    "plt.show()"
   ]
  },
  {
   "cell_type": "code",
   "execution_count": 137,
   "metadata": {},
   "outputs": [
    {
     "data": {
      "text/plain": [
       "['the {} and the {}',\n",
       " 'the {} in the {}',\n",
       " 'the {} by the {}',\n",
       " 'the {} of the {}',\n",
       " 'the {} near the {}',\n",
       " 'the {} at the {}',\n",
       " 'the {} without the {}',\n",
       " 'the {} the {}',\n",
       " 'the {} that the {}',\n",
       " 'the {} whether the {}',\n",
       " \"the {} 's {} (the {} ' {})\"]"
      ]
     },
     "execution_count": 137,
     "metadata": {},
     "output_type": "execute_result"
    }
   ],
   "source": [
    "all_templates"
   ]
  },
  {
   "cell_type": "code",
   "execution_count": 138,
   "metadata": {},
   "outputs": [
    {
     "data": {
      "text/plain": [
       "0.774"
      ]
     },
     "execution_count": 138,
     "metadata": {},
     "output_type": "execute_result"
    }
   ],
   "source": [
    "si_possessive_success_rate"
   ]
  },
  {
   "cell_type": "code",
   "execution_count": 139,
   "metadata": {},
   "outputs": [
    {
     "data": {
      "text/plain": [
       "0.656"
      ]
     },
     "execution_count": 139,
     "metadata": {},
     "output_type": "execute_result"
    }
   ],
   "source": [
    "pl_possessive_success_rate"
   ]
  },
  {
   "cell_type": "code",
   "execution_count": 140,
   "metadata": {},
   "outputs": [],
   "source": [
    "x_template = \"the {} {}\"\n",
    "\n",
    "np.random.seed(100) #generate from same verbs and nouns for each template\n",
    "\n",
    "\n",
    "si_x, pl_x = gen_one_attractor(\n",
    "    num_sentences, \n",
    "    num_words, \n",
    "    False, \n",
    "    NN, \n",
    "    NNS, \n",
    "    VBP, \n",
    "    VBZ, \n",
    "    template = x_template, first_dep=True)\n",
    "\n",
    "pl_x_success_rate = calculate_error_rate(pl_x)\n",
    "si_x_success_rate = calculate_error_rate(si_x)\n"
   ]
  },
  {
   "cell_type": "code",
   "execution_count": 141,
   "metadata": {},
   "outputs": [
    {
     "data": {
      "text/plain": [
       "0.633"
      ]
     },
     "execution_count": 141,
     "metadata": {},
     "output_type": "execute_result"
    }
   ],
   "source": [
    "pl_x_success_rate"
   ]
  },
  {
   "cell_type": "code",
   "execution_count": 142,
   "metadata": {},
   "outputs": [
    {
     "data": {
      "text/plain": [
       "0.712"
      ]
     },
     "execution_count": 142,
     "metadata": {},
     "output_type": "execute_result"
    }
   ],
   "source": [
    "si_x_success_rate"
   ]
  },
  {
   "cell_type": "code",
   "execution_count": 148,
   "metadata": {},
   "outputs": [
    {
     "name": "stdout",
     "output_type": "stream",
     "text": [
      "0.77\n",
      "0.59\n",
      "0.69\n",
      "0.61\n",
      "0.63\n",
      "0.70\n",
      "0.67\n",
      "0.78\n",
      "0.79\n",
      "0.85\n",
      "0.72\n"
     ]
    }
   ],
   "source": [
    "for r in last_noun_rates:\n",
    "    print (\"%.2f\" % r)"
   ]
  },
  {
   "cell_type": "code",
   "execution_count": null,
   "metadata": {
    "collapsed": true
   },
   "outputs": [],
   "source": []
  }
 ],
 "metadata": {
  "kernelspec": {
   "display_name": "Python 3",
   "language": "python",
   "name": "python3"
  },
  "language_info": {
   "codemirror_mode": {
    "name": "ipython",
    "version": 3
   },
   "file_extension": ".py",
   "mimetype": "text/x-python",
   "name": "python",
   "nbconvert_exporter": "python",
   "pygments_lexer": "ipython3",
   "version": "3.6.1"
  }
 },
 "nbformat": 4,
 "nbformat_minor": 2
}

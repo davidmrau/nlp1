{
 "cells": [
  {
   "cell_type": "code",
   "execution_count": 3,
   "metadata": {
    "collapsed": true
   },
   "outputs": [],
   "source": [
    "# do required imports\n",
    "import difflib\n",
    "import torch\n",
    "from torch.autograd import Variable\n",
    "import torch.nn as nn\n",
    "import pickle\n",
    "import numpy as np\n",
    "import matplotlib.pyplot as plt\n",
    "np.random.seed(2834)\n",
    "import matplotlib.ticker as mtick\n",
    "import matplotlib as matplotlib\n",
    "matplotlib.rcParams.update({'font.size': 12})\n",
    "import matplotlib.pyplot as plt\n",
    "import matplotlib.cm as cm\n",
    "import numpy as np\n",
    "from collections import Counter"
   ]
  },
  {
   "cell_type": "code",
   "execution_count": 4,
   "metadata": {
    "collapsed": true
   },
   "outputs": [],
   "source": [
    "lm = torch.load('model.pt', map_location=lambda storage, loc: storage)"
   ]
  },
  {
   "cell_type": "code",
   "execution_count": 5,
   "metadata": {
    "collapsed": true
   },
   "outputs": [],
   "source": [
    "# calculate word frequencies\n",
    "train_data = []\n",
    "with open('train.txt', 'r', encoding='utf-8') as infile:\n",
    "    for line in infile:\n",
    "        for word in line.split():\n",
    "            train_data.append(word)\n",
    "counter = Counter(train_data)"
   ]
  },
  {
   "cell_type": "code",
   "execution_count": 6,
   "metadata": {
    "collapsed": true
   },
   "outputs": [],
   "source": [
    "# Load dictionary word --> id \n",
    "dictionary = pickle.load(open('dict', 'rb'))\n",
    "\n",
    "# set the maximum sequence length\n",
    "max_seq_len = 50\n",
    "\n",
    "# function to transform sentence into word id's and put them in a pytorch Variable\n",
    "# NB Assumes the sentence is already tokenised!\n",
    "def tokenise(sentence, dictionary):\n",
    "    words = sentence.split(' ')\n",
    "    l = len(words)\n",
    "    assert l <= max_seq_len, \"sentence too long\"\n",
    "    token = 0\n",
    "    ids = torch.LongTensor(l)\n",
    "\n",
    "    for word in words:\n",
    "        try:\n",
    "            ids[token] = dictionary.word2idx[word]\n",
    "        except KeyError:\n",
    "            print( word)\n",
    "            raw_input()\n",
    "            ids[token] = dictionary.word2idx['<unk>']\n",
    "        token += 1\n",
    "    return ids"
   ]
  },
  {
   "cell_type": "code",
   "execution_count": 7,
   "metadata": {
    "collapsed": true
   },
   "outputs": [],
   "source": [
    "# load pytorch softmax function\n",
    "softmax = nn.Softmax()\n",
    "\n",
    "def evaluate(model, dictionary, sentence, check_words):\n",
    "    # Turn on evaluation mode which disables dropout.\n",
    "    model.eval()\n",
    "    \n",
    "    # number of tokens (= output size)\n",
    "    ntokens = len(dictionary)\n",
    "    hidden = model.init_hidden(1)\n",
    "    \n",
    "    # tokenise the sentence, put in torch Variable\n",
    "    test_data = tokenise(sentence, dictionary)\n",
    "    input_data = Variable(test_data, volatile=True)\n",
    "\n",
    "    # run the model, compute probabilities by applying softmax\n",
    "    output, hidden = model(input_data, hidden)\n",
    "    output_flat = output.view(-1, ntokens)\n",
    "    logits = output[-1, :]\n",
    "    sm = softmax(logits).view(ntokens)\n",
    "    \n",
    "    # get probabilities of certain words by looking up their\n",
    "    # indices and print them\n",
    "    def get_prob(word):\n",
    "        return sm[dictionary.word2idx[word]].data[0]\n",
    "\n",
    "    #print (sentence, '\\n')\n",
    "    #print ('\\n'.join(\n",
    "    #        ['%s: %f' % (word, get_prob(word)) for word in check_words]\n",
    "    #        ) )\n",
    "    return  [{word : get_prob(word)} for word in check_words]"
   ]
  },
  {
   "cell_type": "code",
   "execution_count": 8,
   "metadata": {
    "collapsed": true
   },
   "outputs": [],
   "source": [
    "# Compose sentence prefixes with frequent words.\n",
    "# The sentence prefixes are intended to test intervening nouns.\n",
    "\n",
    "\n",
    "NN = ['company', 'year', 'market', 'share', 'stock', 'system', 'president', 'business', \n",
    "      'quarter', 'government', 'time', 'week', 'price', 'group', 'interest',\n",
    "      'industry', 'unit','month', 'rate', 'investment', 'state', 'producer', 'income', \n",
    "      'program', 'bank', 'part', 'plan', 'sale', 'issue', 'tax', 'way', 'loss', 'executive', 'day', 'bid', 'data', 'line','hour', 'plant', 'concern']\n",
    "\n",
    "NNS = ['companies', 'years', 'markets', 'shares', 'stocks', 'systems', 'presidents', \n",
    "       'businesses', 'quarters', 'governments', 'times', 'weeks', 'prices', 'groups', 'interests', 'industries', \n",
    "       'units', 'months', 'rates', 'investments', 'states', 'producers', 'incomes', 'programs', 'banks', 'parts', 'plans', \n",
    "      'sales', 'issues', 'taxes', 'ways', 'losses', 'executives', 'days', 'bids', 'data', 'lines', 'hours', 'plants', 'concerns',]\n",
    "\n",
    "VBP = ['are', 'have', 'do', 'say', 'think', 'want', 'expect', 'include', 'ask', \n",
    "       'make', 'need', 'know', 'see', 'get', 'seem', 'remain', 'continue', 'show', 'buy', \n",
    "       'feel', 'go', 'sell', 'take', 'use', 'plan', 'look', 'tend', 'hope', 'argue', 'give',\n",
    "       'pay', 'appear', 'suggest', 'fear', 'find', 'come', 'offer', 'contend', 'agree', 'provide']\n",
    "\n",
    "VBZ = ['is', 'has', 'does', 'says', 'thinks', 'wants', 'expects', 'includes', 'asks', 'makes',\n",
    "      'needs', 'knows', 'sees', 'gets', 'seems', 'remains', 'continues', 'shows', 'buys', 'feels', 'goes', 'sells',\n",
    "      'takes', 'uses', 'plans', 'looks', 'tends', 'hopes', 'argues', 'gives', 'pays', 'appears', 'suggests', 'fears',\n",
    "      'finds', 'comes', 'offers', 'contends', 'agrees', 'provides']\n",
    "\n",
    "attractor_helpers = ['in the', 'by the', 'close to the', 'of the', 'at the', 'and not the', 'without']\n"
   ]
  },
  {
   "cell_type": "code",
   "execution_count": 9,
   "metadata": {
    "collapsed": true
   },
   "outputs": [],
   "source": [
    "def calculate_error_rate(sentences):\n",
    "    result = calculate_errors(sentences)\n",
    "    #print(result)\n",
    "    return 1- sum(result)/len(result)\n",
    "    \n",
    "def calculate_errors(sentences):\n",
    "    return [calculate_error(s) for s in sentences]\n",
    "\n",
    "def calculate_error(sentence):\n",
    "    return 1 if is_correct_prediction(sentence[0], sentence[1], sentence[2]) else 0 \n",
    "\n",
    "def is_correct_prediction(sentence, check_words, correct_word):\n",
    "    predictions = evaluate(lm, dictionary, sentence, check_words)\n",
    "    words,preds = zip(*list(map(lambda x: list(x.items())[0],predictions)))\n",
    "    predicted_word = words[np.argmax(preds)]\n",
    "    return predicted_word == correct_word\n",
    "\n",
    "def prob_ratio(sent):\n",
    "    sentence, check_words, correct_word = sent[0], sent[1], sent[2]\n",
    "    predictions = evaluate(lm, dictionary, sentence, check_words)\n",
    "    words,preds = zip(*list(map(lambda x: list(x.items())[0],predictions)))\n",
    "    #return log ratio\n",
    "    #print(words)\n",
    "    #return np.log(preds[0]/preds[1])\n",
    "    return preds[0] / (preds[0] + preds[1])"
   ]
  },
  {
   "cell_type": "code",
   "execution_count": 97,
   "metadata": {
    "collapsed": true
   },
   "outputs": [],
   "source": [
    "# Compose sentence prefixes with frequent words with one and without attractors\n",
    "\n",
    "def gen_simple_case_matrix(NN, NNS, VBP, VBZ):\n",
    "    assert(len(VBP) == len(VBZ))\n",
    "    nouns = NN + NNS\n",
    "    noun_count = len(nouns)\n",
    "    verb_count = len(VBP)\n",
    "    result = []\n",
    "    result_ratio = []\n",
    "    for index_noun in range(noun_count):\n",
    "        row = []\n",
    "        row_ratio = []\n",
    "        for index_verb in range(verb_count):\n",
    "            correct = VBZ[index_verb] if index_noun < len(NN) else VBP[index_verb]\n",
    "            sentence = (f\"the {nouns[index_noun]}\", [VBP[index_verb], VBZ[index_verb]], correct)\n",
    "            #row.append(sentence)\n",
    "            row.append(calculate_error(sentence))\n",
    "            row_ratio.append(prob_ratio(sentence))\n",
    "        result.append(row)\n",
    "        result_ratio.append(row_ratio)\n",
    "    return result,result_ratio"
   ]
  },
  {
   "cell_type": "code",
   "execution_count": 98,
   "metadata": {},
   "outputs": [],
   "source": [
    "# simple cases: nouns x verbs results, 0 = error, 1 = correct\n",
    "# first half of the rows are singular nouns,\n",
    "# second half are plural nouns\n",
    "n = 40\n",
    "\n",
    "# matrix indicationg erros, matrix indicating error ratio\n",
    "# NOUN x VERB, first half of the rows are singular nouns \n",
    "# 1 = correct 0 = error\n",
    "noun_verb_matrix_errors,noun_verb_matrix_ratio = np.array(gen_simple_case_matrix(NN[0:n], NNS[0:n], VBP[0:n], VBZ[0:n]))"
   ]
  },
  {
   "cell_type": "code",
   "execution_count": 99,
   "metadata": {},
   "outputs": [],
   "source": [
    "# Todo sort columns and rows and make sense of it (by looking at frequencies)\n",
    "\n",
    "# matrix indicating 'singular' prediction (1=singular, 0 = plural)\n",
    "noun_verb_matrix_plural_prediction = noun_verb_matrix_errors.copy()\n",
    "noun_verb_matrix_plural_prediction[n:] = np.array(noun_verb_matrix_plural_prediction[n:] <1,dtype=int)\n",
    "# sort columns (verbs) by their preference for singular prediction\n",
    "noun_verb_matrix_plural_prediction_sorted_idx_col = np.argsort(noun_verb_matrix_plural_prediction.sum(axis=0))\n",
    "noun_verb_matrix_plural_prediction_sorted_col = noun_verb_matrix_plural_prediction[:, noun_verb_matrix_plural_prediction_sorted_idx_col]\n",
    "\n",
    "# split in NN and NNS\n",
    "matrix_NN = noun_verb_matrix_plural_prediction_sorted_col[:n]\n",
    "matrix_NNS = noun_verb_matrix_plural_prediction_sorted_col[n:]\n",
    "\n",
    "# sort rows by their preference for singular prediction\n",
    "matrix_NN_sorted_idx_row = np.argsort(-matrix_NN.sum(axis=1))\n",
    "matrix_NN_sorted_row = matrix_NN[matrix_NN_sorted_idx_row,:]\n",
    "matrix_NNS_sorted_idx_row = np.argsort(-matrix_NNS.sum(axis=1))\n",
    "matrix_NNS_sorted_row = matrix_NNS[matrix_NNS_sorted_idx_row,:]\n",
    "\n",
    "#concatenate matrices\n",
    "matrix = np.concatenate((matrix_NN_sorted_row, matrix_NNS_sorted_row),axis=0)\n",
    "\n",
    "# NOUN x VERB, first half of the rows are singular nouns (NN) second half are plural nouns (NNS)\n",
    "# 1 = plural prediction, 0 = singular prediction\n",
    "# columns are sorted as follows: \n",
    "#   verb with preference for singular (VBZ) ... verb with preference for plural (VBP)\n",
    "# rows are sorted as follows: \n",
    "#   singular noun (NN) correctly predicted singular most of the time\n",
    "#   ...\n",
    "#   singular noun (NN) incorrectly predicted plural often\n",
    "#   plural noun (NNS) incorrectly predicted singular often\n",
    "#   ...\n",
    "#   plural noun (NNS) correctly predicted plural most of the time\n",
    "\n"
   ]
  },
  {
   "cell_type": "code",
   "execution_count": 100,
   "metadata": {},
   "outputs": [
    {
     "name": "stdout",
     "output_type": "stream",
     "text": [
      "(80, 40)\n"
     ]
    },
    {
     "data": {
      "image/png": "[encoded data removed]",
      "text/plain": [
       "<matplotlib.figure.Figure at 0x1380f5b00>"
      ]
     },
     "metadata": {},
     "output_type": "display_data"
    }
   ],
   "source": [
    "print(matrix.shape)\n",
    "plt.imshow(matrix, cmap=cm.gray,aspect='auto')\n",
    "clb = plt.colorbar()\n",
    "clb.ax.set_title('Singular')\n",
    "clb.ax.set_xlabel('Plural')\n",
    "plt.show()\n",
    "plt.imsave('matrix_plot.png',matrix, cmap=cm.gray)"
   ]
  },
  {
   "cell_type": "code",
   "execution_count": 101,
   "metadata": {},
   "outputs": [
    {
     "data": {
      "image/png": "[encoded data removed]",
      "text/plain": [
       "<matplotlib.figure.Figure at 0x1387df860>"
      ]
     },
     "metadata": {},
     "output_type": "display_data"
    }
   ],
   "source": [
    "# IDEA: \n",
    "# Color code verb plurality ratios, i.e. Count(produce)/(Count(produces) + Count(produce)) \n",
    "# and print below diagram as some sort of 'x-axis'\n",
    "\n",
    "vector_verbs = []\n",
    "for i in range(n):\n",
    "    vector_verbs.append(counter[VBP[i]] / (counter[VBP[i]] + counter[VBZ[i]]))\n",
    "vector_verbs = np.array(vector_verbs)\n",
    "\n",
    "# sort after singularity matrix column order\n",
    "vector_verbs = vector_verbs[noun_verb_matrix_singular_prediction_sorted_idx_col]\n",
    "\n",
    "plt.imshow([vector_verbs,vector_verbs], cmap=cm.seismic)\n",
    "clb = plt.colorbar()\n",
    "clb.ax.set_title('Plural')\n",
    "clb.ax.set_xlabel('Singular')\n",
    "plt.show()\n",
    "plt.imsave('vector_verbs.png',[vector_verbs,vector_verbs], cmap=cm.seismic)\n",
    "\n",
    "# We see that verbs with a low plurality rate (blue) tend to predict singlar (left)\n",
    "# and that verbs with a high plurality rate (red) tend to predict plural (right)\n",
    "# but this is not always the case\n",
    "\n",
    "#TODO: better plot (?)\n",
    "#   x-axis plurality rate, \n",
    "#   y-axis number of plural predictions (for plurals and for singulars) "
   ]
  },
  {
   "cell_type": "code",
   "execution_count": 102,
   "metadata": {},
   "outputs": [
    {
     "data": {
      "image/png": "[encoded data removed]",
      "text/plain": [
       "<matplotlib.figure.Figure at 0x138592c88>"
      ]
     },
     "metadata": {},
     "output_type": "display_data"
    }
   ],
   "source": [
    "# Color code noun counts, i.e. Count(company)\n",
    "# and print at the left of the diagram as some sort of 'y-axis'\n",
    "# sort after index NN col\n",
    "vector_nouns = []\n",
    "for i in range(n):\n",
    "    vector_nouns.append(counter[NN[i]])\n",
    "for i in range(n):\n",
    "    vector_nouns.append(counter[NNS[i]])\n",
    "vector_nouns = np.array(vector_nouns)\n",
    "\n",
    "# sort noun order\n",
    "row_indices = np.append(matrix_NN_sorted_idx_row, matrix_NNS_sorted_idx_row + n)\n",
    "vector_nouns = vector_nouns[row_indices]\n",
    "\n",
    "\n",
    "# really divide by the max of NN and NNS?\n",
    "# vector_nouns = vector_nouns/max(vector_nouns)\n",
    "#vector_nouns[0:n] = vector_nouns[0:n]/max(vector_nouns[0:n])\n",
    "#vector_nouns[n:2*n] = vector_nouns[n:2*n]/max(vector_nouns[n:2*n])\n",
    "plt.imshow([vector_nouns,vector_nouns,vector_nouns,vector_nouns], cmap=cm.seismic)\n",
    "clb = plt.colorbar()\n",
    "clb.ax.set_title('Plural')\n",
    "clb.ax.set_xlabel('Singular')\n",
    "plt.show()\n",
    "plt.imsave('vector_nouns.png',[vector_nouns,vector_nouns], cmap=cm.seismic)\n",
    "\n",
    "# What we hoped to see is that the nouns in the middle (i.e. the nouns where a lot of errors were made) \n",
    "# had a low count. This is not clear from the picture though.\n",
    "# What we do see is that plurals tend to have lower count than singulars,\n",
    "# which may or may not explain the slightly higher error rate for plurals"
   ]
  },
  {
   "cell_type": "code",
   "execution_count": 103,
   "metadata": {},
   "outputs": [
    {
     "name": "stdout",
     "output_type": "stream",
     "text": [
      "0 plant 1.0 262\n",
      "1 industry 1.0 602\n",
      "2 company 0.975 2680\n",
      "3 line 0.975 228\n",
      "4 issue 0.975 489\n",
      "5 system 0.975 360\n",
      "6 president 0.975 1246\n",
      "7 government 0.975 885\n",
      "8 unit 0.975 547\n",
      "9 group 0.975 928\n",
      "10 bid 0.95 381\n",
      "11 plan 0.95 525\n",
      "12 month 0.95 546\n",
      "13 concern 0.95 347\n",
      "14 week 0.95 720\n",
      "15 time 0.925 847\n",
      "16 business 0.925 1031\n",
      "17 producer 0.925 64\n",
      "18 bank 0.925 846\n",
      "19 day 0.925 363\n",
      "20 quarter 0.9 791\n",
      "21 year 0.9 2379\n",
      "22 program 0.9 588\n",
      "23 data 0.875 236\n",
      "24 market 0.875 2005\n",
      "25 executive 0.85 601\n",
      "26 sale 0.85 419\n",
      "27 stock 0.825 1611\n",
      "28 investment 0.75 614\n",
      "29 state 0.75 644\n",
      "30 interest 0.725 679\n",
      "31 tax 0.7 437\n",
      "32 price 0.7 767\n",
      "33 part 0.7 461\n",
      "34 rate 0.7 579\n",
      "35 way 0.675 416\n",
      "36 loss 0.675 385\n",
      "37 share 0.65 1511\n",
      "38 hour 0.55 70\n",
      "39 income 0.15 492\n",
      "40 weeks 0.9 250\n",
      "41 months 0.9 710\n",
      "42 data 0.875 236\n",
      "43 years 0.85 1241\n",
      "44 days 0.7 533\n",
      "45 times 0.65 250\n",
      "46 hours 0.525 123\n",
      "47 ways 0.45 94\n",
      "48 taxes 0.225 114\n",
      "49 systems 0.15 252\n",
      "50 plans 0.15 412\n",
      "51 lines 0.125 135\n",
      "52 parts 0.125 116\n",
      "53 investments 0.1 145\n",
      "54 plants 0.1 126\n",
      "55 concerns 0.1 131\n",
      "56 interests 0.05 139\n",
      "57 bids 0.05 74\n",
      "58 issues 0.05 391\n",
      "59 units 0.025 182\n",
      "60 markets 0.025 480\n",
      "61 shares 0.025 1246\n",
      "62 stocks 0.025 609\n",
      "63 executives 0.025 220\n",
      "64 losses 0.025 269\n",
      "65 quarters 0.025 41\n",
      "66 industries 0.025 195\n",
      "67 sales 0.025 1126\n",
      "68 prices 0.025 785\n",
      "69 programs 0.025 192\n",
      "70 states 0.025 182\n",
      "71 companies 0.025 870\n",
      "72 banks 0.0 394\n",
      "73 businesses 0.0 246\n",
      "74 incomes 0.0 6\n",
      "75 presidents 0.0 22\n",
      "76 producers 0.0 128\n",
      "77 groups 0.0 150\n",
      "78 rates 0.0 532\n",
      "79 governments 0.0 40\n"
     ]
    }
   ],
   "source": [
    "i2w = np.vectorize(lambda i: NN[i] if i < n else NNS[i-n])\n",
    "sorted_nouns = i2w(row_indices)\n",
    "for i,w in enumerate(sorted_nouns):\n",
    "    print(i,w, matrix[i,:].mean(), vector_nouns[i])\n",
    "\n",
    "# 1 = all predictions singular, 0 = all predictions plural\n",
    "# We see that the singular word 'income' seems to be miscounted as plural (0.15)\n",
    "# We see a lot of plural words that seem to be miscounted (40 - 47)\n",
    "# We do not see a clear relation with frequencies"
   ]
  },
  {
   "cell_type": "code",
   "execution_count": 104,
   "metadata": {
    "collapsed": true
   },
   "outputs": [],
   "source": [
    "# IDEA: \n",
    "# Create the same diagram for the infrequent nouns. \n",
    "# Presumably they are more likely to follow verb preferences, can we see that in the shape?\n",
    "\n",
    "# Try also to sort the colomns using the column sorting indexes as in the figure above \n",
    "# (instead of using the sum criterion).\n",
    "# Presumably the verbs have the same preferences, can we see that in the shape?\n"
   ]
  },
  {
   "cell_type": "code",
   "execution_count": 105,
   "metadata": {},
   "outputs": [],
   "source": [
    "# Todo sort columns and rows and make sense of it (by looking at frequencies)\n",
    "\n",
    "# matrix indicating 'singular' prediction (1=singular, 0 = plural)\n",
    "noun_verb_matrix_plural_ratio = noun_verb_matrix_ratio.copy()\n",
    "# f = np.vectorize(lambda x: 0 if x == 1 else 1)\n",
    "# noun_verb_matrix_singular_prediction[n:] = f(noun_verb_matrix_ratio[n:])\n",
    "# noun_verb_matrix_singular_prediction # NOUN x VERB, 1 = singular prediction, 0 = plural prediction\n",
    "\n",
    "# sort columns (verbs) by their preference for singular prediction\n",
    "noun_verb_matrix_plural_ratio_sorted_idx_col = np.argsort(-noun_verb_matrix_plural_ratio.sum(axis=0))\n",
    "noun_verb_matrix_plural_ratio_sorted_col = noun_verb_matrix_plural_ratio[:, noun_verb_matrix_plural_ratio_sorted_idx_col]\n",
    "\n",
    "# split in NN and NNS\n",
    "matrix_NN_ratio = noun_verb_matrix_plural_ratio_sorted_col[:n]\n",
    "matrix_NNS_ratio = noun_verb_matrix_plural_ratio_sorted_col[n:]\n",
    "\n",
    "# sort rows by their preference for singular prediction\n",
    "matrix_NN_ratio_sorted_idx_row = np.argsort(matrix_NN_ratio.sum(axis=1))\n",
    "matrix_NN_ratio_sorted_row = matrix_NN_ratio[matrix_NN_ratio_sorted_idx_row,:]\n",
    "matrix_NNS_ratio_sorted_idx_row = np.argsort(matrix_NNS_ratio.sum(axis=1))\n",
    "matrix_NNS_ratio_sorted_row = matrix_NNS_ratio[matrix_NNS_ratio_sorted_idx_row,:]\n",
    "\n",
    "#concatenate matrices\n",
    "matrix_ratio = np.concatenate((matrix_NN_ratio_sorted_row, matrix_NNS_ratio_sorted_row),axis=0)\n",
    "\n",
    "# NOUN x VERB, first half of the rows are singular nouns (NN) second half are plural nouns (NNS)\n",
    "# 1 = singular prediction, 0 = plural prediction\n",
    "# columns are sorted as follows: \n",
    "#   verb with preference for singular (VBZ) ... verb with preference for plural (VBP)\n",
    "# rows are sorted as follows: \n",
    "#   singular noun (NN) correctly predicted singular most of the time\n",
    "#   ...\n",
    "#   singular noun (NN) incorrectly predicted plural often\n",
    "#   plural noun (NNS) incorrectly predicted singular often\n",
    "#   ...\n",
    "#   plural noun (NNS) correctly predicted plural most of the time\n",
    "\n",
    "\n"
   ]
  },
  {
   "cell_type": "code",
   "execution_count": 106,
   "metadata": {},
   "outputs": [
    {
     "data": {
      "image/png": "[encoded data removed]",
      "text/plain": [
       "<matplotlib.figure.Figure at 0x11dfc3240>"
      ]
     },
     "metadata": {},
     "output_type": "display_data"
    }
   ],
   "source": [
    "plt.imshow(matrix_ratio, cmap=cm.seismic,aspect='auto')\n",
    "clb = plt.colorbar()\n",
    "clb.ax.set_title('Plural')\n",
    "clb.ax.set_xlabel('Singular')\n",
    "plt.show()\n",
    "plt.imsave('matrix_plot_ratio.png',matrix_ratio, cmap=cm.seismic)\n",
    "\n"
   ]
  },
  {
   "cell_type": "code",
   "execution_count": null,
   "metadata": {
    "collapsed": true
   },
   "outputs": [],
   "source": []
  }
 ],
 "metadata": {
  "kernelspec": {
   "display_name": "Python 3",
   "language": "python",
   "name": "python3"
  },
  "language_info": {
   "codemirror_mode": {
    "name": "ipython",
    "version": 3
   },
   "file_extension": ".py",
   "mimetype": "text/x-python",
   "name": "python",
   "nbconvert_exporter": "python",
   "pygments_lexer": "ipython3",
   "version": "3.6.1"
  }
 },
 "nbformat": 4,
 "nbformat_minor": 2
}

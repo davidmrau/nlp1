{
 "cells": [
  {
   "cell_type": "code",
   "execution_count": null,
   "metadata": {
    "collapsed": true
   },
   "outputs": [],
   "source": [
    "# do required imports\n",
    "import difflib\n",
    "import torch\n",
    "from torch.autograd import Variable\n",
    "import torch.nn as nn\n",
    "import pickle\n",
    "import numpy as np\n",
    "import matplotlib.pyplot as plt\n",
    "np.random.seed(2834)\n",
    "import matplotlib.ticker as mtick\n",
    "import matplotlib as matplotlib\n",
    "matplotlib.rcParams.update({'font.size': 12})\n",
    "import matplotlib.pyplot as plt\n",
    "import matplotlib.cm as cm\n",
    "import numpy as np\n",
    "from collections import Counter"
   ]
  },
  {
   "cell_type": "code",
   "execution_count": null,
   "metadata": {
    "collapsed": true
   },
   "outputs": [],
   "source": [
    "lm = torch.load('model.pt', map_location=lambda storage, loc: storage)"
   ]
  },
  {
   "cell_type": "code",
   "execution_count": null,
   "metadata": {
    "collapsed": true
   },
   "outputs": [],
   "source": [
    "# calculate word frequencies\n",
    "train_data = []\n",
    "with open('train.txt', 'r', encoding='utf-8') as infile:\n",
    "    for line in infile:\n",
    "        for word in line.split():\n",
    "            train_data.append(word)\n",
    "counter = Counter(train_data)"
   ]
  },
  {
   "cell_type": "code",
   "execution_count": null,
   "metadata": {
    "collapsed": true
   },
   "outputs": [],
   "source": [
    "# Load dictionary word --> id \n",
    "dictionary = pickle.load(open('dict', 'rb'))\n",
    "\n",
    "# set the maximum sequence length\n",
    "max_seq_len = 50\n",
    "\n",
    "# function to transform sentence into word id's and put them in a pytorch Variable\n",
    "# NB Assumes the sentence is already tokenised!\n",
    "def tokenise(sentence, dictionary):\n",
    "    words = sentence.split(' ')\n",
    "    l = len(words)\n",
    "    assert l <= max_seq_len, \"sentence too long\"\n",
    "    token = 0\n",
    "    ids = torch.LongTensor(l)\n",
    "\n",
    "    for word in words:\n",
    "        try:\n",
    "            ids[token] = dictionary.word2idx[word]\n",
    "        except KeyError:\n",
    "            print( word)\n",
    "            raw_input()\n",
    "            ids[token] = dictionary.word2idx['<unk>']\n",
    "        token += 1\n",
    "    return ids"
   ]
  },
  {
   "cell_type": "code",
   "execution_count": null,
   "metadata": {
    "collapsed": true
   },
   "outputs": [],
   "source": [
    "# load pytorch softmax function\n",
    "softmax = nn.Softmax()\n",
    "\n",
    "def evaluate(model, dictionary, sentence, check_words):\n",
    "    # Turn on evaluation mode which disables dropout.\n",
    "    model.eval()\n",
    "    \n",
    "    # number of tokens (= output size)\n",
    "    ntokens = len(dictionary)\n",
    "    hidden = model.init_hidden(1)\n",
    "    \n",
    "    # tokenise the sentence, put in torch Variable\n",
    "    test_data = tokenise(sentence, dictionary)\n",
    "    input_data = Variable(test_data, volatile=True)\n",
    "\n",
    "    # run the model, compute probabilities by applying softmax\n",
    "    output, hidden = model(input_data, hidden)\n",
    "    output_flat = output.view(-1, ntokens)\n",
    "    logits = output[-1, :]\n",
    "    sm = softmax(logits).view(ntokens)\n",
    "    \n",
    "    # get probabilities of certain words by looking up their\n",
    "    # indices and print them\n",
    "    def get_prob(word):\n",
    "        return sm[dictionary.word2idx[word]].data[0]\n",
    "\n",
    "    #print (sentence, '\\n')\n",
    "    #print ('\\n'.join(\n",
    "    #        ['%s: %f' % (word, get_prob(word)) for word in check_words]\n",
    "    #        ) )\n",
    "    return  [{word : get_prob(word)} for word in check_words]"
   ]
  },
  {
   "cell_type": "code",
   "execution_count": null,
   "metadata": {
    "collapsed": true
   },
   "outputs": [],
   "source": [
    "# Compose sentence prefixes with frequent words.\n",
    "# The sentence prefixes are intended to test intervening nouns.\n",
    "\n",
    "\n",
    "NN = ['company', 'year', 'market', 'share', 'stock', 'system', 'president', 'business', \n",
    "      'quarter', 'government', 'time', 'week', 'price', 'group', 'interest',\n",
    "      'industry', 'unit','month', 'rate', 'investment', 'state', 'producer', 'income', \n",
    "      'program', 'bank', 'part', 'plan', 'sale', 'issue', 'tax', 'way', 'loss', 'executive', 'day', 'bid', 'data', 'line','hour', 'plant', 'concern']\n",
    "\n",
    "NNS = ['companies', 'years', 'markets', 'shares', 'stocks', 'systems', 'presidents', \n",
    "       'businesses', 'quarters', 'governments', 'times', 'weeks', 'prices', 'groups', 'interests', 'industries', \n",
    "       'units', 'months', 'rates', 'investments', 'states', 'producers', 'incomes', 'programs', 'banks', 'parts', 'plans', \n",
    "      'sales', 'issues', 'taxes', 'ways', 'losses', 'executives', 'days', 'bids', 'data', 'lines', 'hours', 'plants', 'concerns',]\n",
    "\n",
    "VBP = ['are', 'have', 'do', 'say', 'think', 'want', 'expect', 'include', 'ask', \n",
    "       'make', 'need', 'know', 'see', 'get', 'seem', 'remain', 'continue', 'show', 'buy', \n",
    "       'feel', 'go', 'sell', 'take', 'use', 'plan', 'look', 'tend', 'hope', 'argue', 'give',\n",
    "       'pay', 'appear', 'suggest', 'fear', 'find', 'come', 'offer', 'contend', 'agree', 'provide']\n",
    "\n",
    "VBZ = ['is', 'has', 'does', 'says', 'thinks', 'wants', 'expects', 'includes', 'asks', 'makes',\n",
    "      'needs', 'knows', 'sees', 'gets', 'seems', 'remains', 'continues', 'shows', 'buys', 'feels', 'goes', 'sells',\n",
    "      'takes', 'uses', 'plans', 'looks', 'tends', 'hopes', 'argues', 'gives', 'pays', 'appears', 'suggests', 'fears',\n",
    "      'finds', 'comes', 'offers', 'contends', 'agrees', 'provides']\n",
    "\n",
    "attractor_helpers = ['in the', 'by the', 'close to the', 'of the', 'at the', 'and not the', 'without']\n"
   ]
  },
  {
   "cell_type": "code",
   "execution_count": null,
   "metadata": {
    "collapsed": true
   },
   "outputs": [],
   "source": [
    "def calculate_error_rate(sentences):\n",
    "    result = calculate_errors(sentences)\n",
    "    #print(result)\n",
    "    return 1- sum(result)/len(result)\n",
    "    \n",
    "def calculate_errors(sentences):\n",
    "    return [calculate_error(s) for s in sentences]\n",
    "\n",
    "def calculate_error(sentence):\n",
    "    return 1 if is_correct_prediction(sentence[0], sentence[1], sentence[2]) else 0 \n",
    "\n",
    "def is_correct_prediction(sentence, check_words, correct_word):\n",
    "    predictions = evaluate(lm, dictionary, sentence, check_words)\n",
    "    words,preds = zip(*list(map(lambda x: list(x.items())[0],predictions)))\n",
    "    predicted_word = words[np.argmax(preds)]\n",
    "    return predicted_word == correct_word\n",
    "\n",
    "def prob_ratio(sent):\n",
    "    sentence, check_words, correct_word = sent[0], sent[1], sent[2]\n",
    "    predictions = evaluate(lm, dictionary, sentence, check_words)\n",
    "    words,preds = zip(*list(map(lambda x: list(x.items())[0],predictions)))\n",
    "    #return log ratio\n",
    "    #print(words)\n",
    "    #return np.log(preds[0]/preds[1])\n",
    "    return preds[0] / (preds[0] + preds[1])"
   ]
  },
  {
   "cell_type": "code",
   "execution_count": null,
   "metadata": {
    "collapsed": true
   },
   "outputs": [],
   "source": [
    "# Compose sentence prefixes with frequent words with one and without attractors\n",
    "\n",
    "def gen_simple_case_matrix(NN, NNS, VBP, VBZ):\n",
    "    assert(len(VBP) == len(VBZ))\n",
    "    nouns = NN + NNS\n",
    "    noun_count = len(nouns)\n",
    "    verb_count = len(VBP)\n",
    "    result = []\n",
    "    result_ratio = []\n",
    "    for index_noun in range(noun_count):\n",
    "        row = []\n",
    "        row_ratio = []\n",
    "        for index_verb in range(verb_count):\n",
    "            correct = VBZ[index_verb] if index_noun < len(NN) else VBP[index_verb]\n",
    "            sentence = (f\"the {nouns[index_noun]}\", [VBP[index_verb], VBZ[index_verb]], correct)\n",
    "            #row.append(sentence)\n",
    "            row.append(calculate_error(sentence))\n",
    "            row_ratio.append(prob_ratio(sentence))\n",
    "        result.append(row)\n",
    "        result_ratio.append(row_ratio)\n",
    "    return result,result_ratio"
   ]
  },
  {
   "cell_type": "code",
   "execution_count": null,
   "metadata": {
    "collapsed": true
   },
   "outputs": [],
   "source": [
    "# simple cases: nouns x verbs results, 0 = error, 1 = correct\n",
    "# first half of the rows are singular nouns,\n",
    "# second half are plural nouns\n",
    "n = 40\n",
    "\n",
    "# matrix indicationg erros, matrix indicating error ratio\n",
    "# NOUN x VERB, first half of the rows are singular nouns \n",
    "# 1 = correct 0 = error\n",
    "noun_verb_matrix_errors,noun_verb_matrix_ratio = np.array(gen_simple_case_matrix(NN[0:n], NNS[0:n], VBP[0:n], VBZ[0:n]))"
   ]
  },
  {
   "cell_type": "code",
   "execution_count": 17,
   "metadata": {
    "collapsed": true
   },
   "outputs": [],
   "source": [
    "# Todo sort columns and rows and make sense of it (by looking at frequencies)\n",
    "\n",
    "# matrix indicating 'singular' prediction (1=singular, 0 = plural)\n",
    "noun_verb_matrix_plural_prediction = noun_verb_matrix_errors.copy()\n",
    "noun_verb_matrix_plural_prediction[n:] = np.array(noun_verb_matrix_plural_prediction[n:] <1,dtype=int)\n",
    "# sort columns (verbs) by their preference for singular prediction\n",
    "noun_verb_matrix_plural_prediction_sorted_idx_col = np.argsort(noun_verb_matrix_plural_prediction.sum(axis=0))\n",
    "noun_verb_matrix_plural_prediction_sorted_col = noun_verb_matrix_plural_prediction[:, noun_verb_matrix_plural_prediction_sorted_idx_col]\n",
    "\n",
    "# split in NN and NNS\n",
    "matrix_NN = noun_verb_matrix_plural_prediction_sorted_col[:n]\n",
    "matrix_NNS = noun_verb_matrix_plural_prediction_sorted_col[n:]\n",
    "\n",
    "# sort rows by their preference for singular prediction\n",
    "matrix_NN_sorted_idx_row = np.argsort(-matrix_NN.sum(axis=1))\n",
    "matrix_NN_sorted_row = matrix_NN[matrix_NN_sorted_idx_row,:]\n",
    "matrix_NNS_sorted_idx_row = np.argsort(-matrix_NNS.sum(axis=1))\n",
    "matrix_NNS_sorted_row = matrix_NNS[matrix_NNS_sorted_idx_row,:]\n",
    "\n",
    "#concatenate matrices\n",
    "matrix = np.concatenate((matrix_NN_sorted_row, matrix_NNS_sorted_row),axis=0)\n",
    "\n",
    "# NOUN x VERB, first half of the rows are singular nouns (NN) second half are plural nouns (NNS)\n",
    "# 1 = plural prediction, 0 = singular prediction\n",
    "# columns are sorted as follows: \n",
    "#   verb with preference for singular (VBZ) ... verb with preference for plural (VBP)\n",
    "# rows are sorted as follows: \n",
    "#   singular noun (NN) correctly predicted singular most of the time\n",
    "#   ...\n",
    "#   singular noun (NN) incorrectly predicted plural often\n",
    "#   plural noun (NNS) incorrectly predicted singular often\n",
    "#   ...\n",
    "#   plural noun (NNS) correctly predicted plural most of the time\n",
    "\n"
   ]
  },
  {
   "cell_type": "code",
   "execution_count": 18,
   "metadata": {},
   "outputs": [
    {
     "name": "stdout",
     "output_type": "stream",
     "text": [
      "(80, 40)\n"
     ]
    },
    {
     "data": {
      "image/png": "[encoded data removed]",
      "text/plain": [
       "<matplotlib.figure.Figure at 0x12c427978>"
      ]
     },
     "metadata": {},
     "output_type": "display_data"
    }
   ],
   "source": [
    "print(matrix.shape)\n",
    "plt.imshow(matrix, cmap=cm.gray,aspect='auto')\n",
    "clb = plt.colorbar()\n",
    "clb.ax.set_title('Singular')\n",
    "clb.ax.set_xlabel('Plural')\n",
    "plt.show()\n",
    "plt.imsave('matrix_plot.png',matrix, cmap=cm.gray)"
   ]
  },
  {
   "cell_type": "code",
   "execution_count": 19,
   "metadata": {},
   "outputs": [],
   "source": [
    "# IDEA: \n",
    "# Color code verb plurality ratios, i.e. Count(produce)/(Count(produces) + Count(produce)) \n",
    "# and print below diagram as some sort of 'x-axis'\n",
    "\n",
    "vector_verbs = []\n",
    "for i in range(n):\n",
    "    vector_verbs.append(counter[VBP[i]] / (counter[VBP[i]] + counter[VBZ[i]]))\n",
    "vector_verbs = np.array(vector_verbs)\n",
    "\n",
    "# sort after singularity matrix column order\n",
    "vector_verbs = vector_verbs[noun_verb_matrix_plural_prediction_sorted_idx_col]\n",
    "\n",
    "# plt.imshow([vector_verbs,vector_verbs], cmap=cm.seismic)\n",
    "# clb = plt.colorbar()\n",
    "# clb.ax.set_title('Plural')\n",
    "# clb.ax.set_xlabel('Singular')\n",
    "# plt.show()\n",
    "# plt.imsave('vector_verbs.png',[vector_verbs,vector_verbs], cmap=cm.seismic)\n",
    "\n",
    "# We see that verbs with a low plurality rate (blue) tend to predict singlar (left)\n",
    "# and that verbs with a high plurality rate (red) tend to predict plural (right)\n",
    "# but this is not always the case\n",
    "\n",
    "#TODO: better plot (?)\n",
    "#   x-axis plurality rate, \n",
    "#   y-axis number of plural predictions (for plurals and for singulars) "
   ]
  },
  {
   "cell_type": "code",
   "execution_count": 33,
   "metadata": {},
   "outputs": [
    {
     "data": {
      "image/png": "[encoded data removed]",
      "text/plain": [
       "<matplotlib.figure.Figure at 0x12cb19b00>"
      ]
     },
     "metadata": {},
     "output_type": "display_data"
    }
   ],
   "source": [
    "# Color code noun counts, i.e. Count(company)\n",
    "# and print at the left of the diagram as some sort of 'y-axis'\n",
    "# sort after index NN col\n",
    "nouns_freq = []\n",
    "for i in range(n):\n",
    "    nouns_freq.append(counter[NN[i]])\n",
    "for i in range(n):\n",
    "    nouns_freq.append(counter[NNS[i]])\n",
    "nouns_freq = np.array(nouns_freq)\n",
    "\n",
    "\n",
    "error_rate_nouns_NN = []\n",
    "error_rate_nouns_NNS = []\n",
    "for row in noun_verb_matrix_errors[:n]:\n",
    "    error_rate_nouns_NN.append(sum(row)/len(row))\n",
    "for row in noun_verb_matrix_errors[n:]:\n",
    "    error_rate_nouns_NNS.append(sum(row)/len(row))\n",
    "plt.scatter(nouns_freq[:n], error_rate_nouns_NN, color='b', label='Singular')\n",
    "plt.scatter(nouns_freq[n:], error_rate_nouns_NNS, color='r',label='Plural')\n",
    "plt.legend()\n",
    "# Title: \n",
    "plt.xlabel('Noun Count')\n",
    "plt.ylabel('Error Rate')\n",
    "plt.savefig('noun_freq_error_rate.png')\n",
    "plt.show()\n",
    "\n",
    "\n",
    "# What we hoped to see is that the nouns in the middle (i.e. the nouns where a lot of errors were made) \n",
    "# had a low count. This is not clear from the picture though.\n",
    "# What we do see is that plurals tend to have lower count than singulars,\n",
    "# which may or may not explain the slightly higher error rate for plurals"
   ]
  },
  {
   "cell_type": "code",
   "execution_count": 34,
   "metadata": {},
   "outputs": [
    {
     "name": "stdout",
     "output_type": "stream",
     "text": [
      "0 plant 1.0 2680\n",
      "1 industry 1.0 2379\n",
      "2 company 0.975 2005\n",
      "3 line 0.975 1511\n",
      "4 issue 0.975 1611\n",
      "5 system 0.975 360\n",
      "6 president 0.975 1246\n",
      "7 government 0.975 1031\n",
      "8 unit 0.975 791\n",
      "9 group 0.975 885\n",
      "10 bid 0.95 847\n",
      "11 plan 0.95 720\n",
      "12 month 0.95 767\n",
      "13 concern 0.95 928\n",
      "14 week 0.95 679\n",
      "15 time 0.925 602\n",
      "16 business 0.925 547\n",
      "17 producer 0.925 546\n",
      "18 bank 0.925 579\n",
      "19 day 0.925 614\n",
      "20 quarter 0.9 644\n",
      "21 year 0.9 64\n",
      "22 program 0.9 492\n",
      "23 data 0.875 588\n",
      "24 market 0.875 846\n",
      "25 executive 0.85 461\n",
      "26 sale 0.85 525\n",
      "27 stock 0.825 419\n",
      "28 investment 0.75 489\n",
      "29 state 0.75 437\n",
      "30 interest 0.725 416\n",
      "31 tax 0.7 385\n",
      "32 price 0.7 601\n",
      "33 part 0.7 363\n",
      "34 rate 0.7 381\n",
      "35 way 0.675 236\n",
      "36 loss 0.675 228\n",
      "37 share 0.65 70\n",
      "38 hour 0.55 262\n",
      "39 income 0.15 347\n",
      "40 weeks 0.9 870\n",
      "41 months 0.9 1241\n",
      "42 data 0.875 480\n",
      "43 years 0.85 1246\n",
      "44 days 0.7 609\n",
      "45 times 0.65 252\n",
      "46 hours 0.525 22\n",
      "47 ways 0.45 246\n",
      "48 taxes 0.225 41\n",
      "49 systems 0.15 40\n",
      "50 plans 0.15 250\n",
      "51 lines 0.125 250\n",
      "52 parts 0.125 785\n",
      "53 investments 0.1 150\n",
      "54 plants 0.1 139\n",
      "55 concerns 0.1 195\n",
      "56 interests 0.05 182\n",
      "57 bids 0.05 710\n",
      "58 issues 0.05 532\n",
      "59 units 0.025 145\n",
      "60 markets 0.025 182\n",
      "61 shares 0.025 128\n",
      "62 stocks 0.025 6\n",
      "63 executives 0.025 192\n",
      "64 losses 0.025 394\n",
      "65 quarters 0.025 116\n",
      "66 industries 0.025 412\n",
      "67 sales 0.025 1126\n",
      "68 prices 0.025 391\n",
      "69 programs 0.025 114\n",
      "70 states 0.025 94\n",
      "71 companies 0.025 269\n",
      "72 banks 0.0 220\n",
      "73 businesses 0.0 533\n",
      "74 incomes 0.0 74\n",
      "75 presidents 0.0 236\n",
      "76 producers 0.0 135\n",
      "77 groups 0.0 123\n",
      "78 rates 0.0 126\n",
      "79 governments 0.0 131\n"
     ]
    }
   ],
   "source": [
    "i2w = np.vectorize(lambda i: NN[i] if i < n else NNS[i-n])\n",
    "sorted_nouns = i2w(row_indices)\n",
    "for i,w in enumerate(sorted_nouns):\n",
    "    print(i,w, matrix[i,:].mean(), nouns_freq[i])\n",
    "\n",
    "# 1 = all predictions singular, 0 = all predictions plural\n",
    "# We see that the singular word 'income' seems to be miscounted as plural (0.15)\n",
    "# We see a lot of plural words that seem to be miscounted (40 - 47)\n",
    "# We do not see a clear relation with frequencies"
   ]
  },
  {
   "cell_type": "code",
   "execution_count": 48,
   "metadata": {},
   "outputs": [
    {
     "name": "stdout",
     "output_type": "stream",
     "text": [
      "0 buys buy 0.95 0.962818003914\n",
      "1 thinks think 0.75 0.877005347594\n",
      "2 shows show 0.7125 0.708074534161\n",
      "3 plans plan 0.6625 0.560298826041\n",
      "4 looks look 0.6125 0.770408163265\n",
      "5 gets get 0.6 0.876363636364\n",
      "6 takes take 0.575 0.842105263158\n",
      "7 feels feel 0.575 0.857142857143\n",
      "8 offers offer 0.575 0.851711026616\n",
      "9 uses use 0.5625 0.871428571429\n",
      "10 sells sell 0.5625 0.886486486486\n",
      "11 needs need 0.55 0.717948717949\n",
      "12 gives give 0.5375 0.778846153846\n",
      "13 fears fear 0.5375 0.587412587413\n",
      "14 hopes hope 0.5375 0.484210526316\n",
      "15 sees see 0.525 0.882911392405\n",
      "16 finds find 0.525 0.874316939891\n",
      "17 goes go 0.4875 0.774928774929\n",
      "18 pays pay 0.475 0.938875305623\n",
      "19 knows know 0.4625 0.845283018868\n",
      "20 includes include 0.45 0.6\n",
      "21 does do 0.45 0.658203125\n",
      "22 seems seem 0.4375 0.457777777778\n",
      "23 makes make 0.4375 0.770883054893\n",
      "24 appears appear 0.4375 0.503144654088\n",
      "25 comes come 0.4125 0.71511627907\n",
      "26 provides provide 0.4125 0.701492537313\n",
      "27 continues continue 0.4125 0.725333333333\n",
      "28 wants want 0.4125 0.688679245283\n",
      "29 tends tend 0.4125 0.803571428571\n",
      "30 has have 0.4 0.48152544888\n",
      "31 remains remain 0.3875 0.527397260274\n",
      "32 expects expect 0.3875 0.445628997868\n",
      "33 agrees agree 0.375 0.72\n",
      "34 is are 0.375 0.347880188428\n",
      "35 suggests suggest 0.35 0.524752475248\n",
      "36 argues argue 0.325 0.662162162162\n",
      "37 contends contend 0.3125 0.388059701493\n",
      "38 asks ask 0.2375 0.684210526316\n",
      "39 says say 0.1625 0.265191429575\n"
     ]
    },
    {
     "data": {
      "image/png": "[encoded data removed]",
      "text/plain": [
       "<matplotlib.figure.Figure at 0x12ccbc278>"
      ]
     },
     "metadata": {},
     "output_type": "display_data"
    }
   ],
   "source": [
    "plurality_rate = []\n",
    "plurality_pref = []\n",
    "\n",
    "for i,w in enumerate(noun_verb_matrix_plural_prediction_sorted_idx_col):\n",
    "    print(i,VBZ[w],VBP[w], 1-matrix[:,i].mean(), vector_verbs[i])\n",
    "    plurality_rate.append(vector_verbs[i])\n",
    "    plurality_pref.append(1-matrix[:,i].mean())\n",
    "x = np.arange(0,1.1,0.1)\n",
    "fit = np.polyfit(plurality_rate,plurality_pref,1)\n",
    "fit_fn = np.poly1d(fit) \n",
    "\n",
    "plt.plot(x,fit_fn(x))\n",
    "plt.xlabel('Plurality Rate')\n",
    "plt.ylabel('Plurality Preference')\n",
    "plt.scatter(plurality_rate,plurality_pref)\n",
    "plt.savefig('lin_reg.pdf')\n",
    "plt.show()\n",
    "\n",
    "# 1 = all predictions singular, 0 = all predictions plural\n",
    "# We see that the singular word 'income' seems to be miscounted as plural (0.15)\n",
    "# We see a lot of plural words that seem to be miscounted (40 - 47)\n",
    "# We do not see a clear relation with frequencies\n",
    "\n",
    "\n",
    "# low plurality rate = low probability to predic plural"
   ]
  },
  {
   "cell_type": "code",
   "execution_count": null,
   "metadata": {
    "collapsed": true
   },
   "outputs": [],
   "source": [
    "# IDEA: \n",
    "# Create the same diagram for the infrequent nouns. \n",
    "# Presumably they are more likely to follow verb preferences, can we see that in the shape?\n",
    "\n",
    "# Try also to sort the colomns using the column sorting indexes as in the figure above \n",
    "# (instead of using the sum criterion).\n",
    "# Presumably the verbs have the same preferences, can we see that in the shape?\n"
   ]
  },
  {
   "cell_type": "code",
   "execution_count": 39,
   "metadata": {
    "collapsed": true
   },
   "outputs": [],
   "source": [
    "# Todo sort columns and rows and make sense of it (by looking at frequencies)\n",
    "\n",
    "# matrix indicating 'singular' prediction (1=singular, 0 = plural)\n",
    "noun_verb_matrix_plural_ratio = noun_verb_matrix_ratio.copy()\n",
    "# f = np.vectorize(lambda x: 0 if x == 1 else 1)\n",
    "# noun_verb_matrix_singular_prediction[n:] = f(noun_verb_matrix_ratio[n:])\n",
    "# noun_verb_matrix_singular_prediction # NOUN x VERB, 1 = singular prediction, 0 = plural prediction\n",
    "\n",
    "# sort columns (verbs) by their preference for singular prediction\n",
    "noun_verb_matrix_plural_ratio_sorted_idx_col = np.argsort(-noun_verb_matrix_plural_ratio.sum(axis=0))\n",
    "noun_verb_matrix_plural_ratio_sorted_col = noun_verb_matrix_plural_ratio[:, noun_verb_matrix_plural_ratio_sorted_idx_col]\n",
    "\n",
    "# split in NN and NNS\n",
    "matrix_NN_ratio = noun_verb_matrix_plural_ratio_sorted_col[:n]\n",
    "matrix_NNS_ratio = noun_verb_matrix_plural_ratio_sorted_col[n:]\n",
    "\n",
    "# sort rows by their preference for singular prediction\n",
    "matrix_NN_ratio_sorted_idx_row = np.argsort(matrix_NN_ratio.sum(axis=1))\n",
    "matrix_NN_ratio_sorted_row = matrix_NN_ratio[matrix_NN_ratio_sorted_idx_row,:]\n",
    "matrix_NNS_ratio_sorted_idx_row = np.argsort(matrix_NNS_ratio.sum(axis=1))\n",
    "matrix_NNS_ratio_sorted_row = matrix_NNS_ratio[matrix_NNS_ratio_sorted_idx_row,:]\n",
    "\n",
    "#concatenate matrices\n",
    "matrix_ratio = np.concatenate((matrix_NN_ratio_sorted_row, matrix_NNS_ratio_sorted_row),axis=0)\n",
    "\n",
    "# NOUN x VERB, first half of the rows are singular nouns (NN) second half are plural nouns (NNS)\n",
    "# 1 = singular prediction, 0 = plural prediction\n",
    "# columns are sorted as follows: \n",
    "#   verb with preference for singular (VBZ) ... verb with preference for plural (VBP)\n",
    "# rows are sorted as follows: \n",
    "#   singular noun (NN) correctly predicted singular most of the time\n",
    "#   ...\n",
    "#   singular noun (NN) incorrectly predicted plural often\n",
    "#   plural noun (NNS) incorrectly predicted singular often\n",
    "#   ...\n",
    "#   plural noun (NNS) correctly predicted plural most of the time\n",
    "\n",
    "\n"
   ]
  },
  {
   "cell_type": "code",
   "execution_count": 47,
   "metadata": {},
   "outputs": [
    {
     "data": {
      "image/png": "[encoded data removed]",
      "text/plain": [
       "<matplotlib.figure.Figure at 0x12e451e10>"
      ]
     },
     "metadata": {},
     "output_type": "display_data"
    }
   ],
   "source": [
    "matrix_ratio_big = np.zeros(np.array(matrix_ratio.shape) * 10)\n",
    "\n",
    "for j in range(matrix_ratio.shape[0]):\n",
    "    for k in range(matrix_ratio.shape[1]):\n",
    "        matrix_ratio_big[j * 10: (j+1) * 10, k * 10: (k+1) * 10] = matrix_ratio[j, k]\n",
    "\n",
    "plt.imshow(matrix_ratio, cmap=cm.seismic,aspect='auto')\n",
    "clb = plt.colorbar()\n",
    "clb.ax.set_title('Plural')\n",
    "clb.ax.set_xlabel('Singular')\n",
    "plt.savefig('matrix_plot_ratio.pdf')\n",
    "plt.show()\n"
   ]
  },
  {
   "cell_type": "code",
   "execution_count": null,
   "metadata": {},
   "outputs": [],
   "source": []
  },
  {
   "cell_type": "code",
   "execution_count": null,
   "metadata": {
    "collapsed": true
   },
   "outputs": [],
   "source": []
  }
 ],
 "metadata": {
  "kernelspec": {
   "display_name": "Python 3",
   "language": "python",
   "name": "python3"
  },
  "language_info": {
   "codemirror_mode": {
    "name": "ipython",
    "version": 3
   },
   "file_extension": ".py",
   "mimetype": "text/x-python",
   "name": "python",
   "nbconvert_exporter": "python",
   "pygments_lexer": "ipython3",
   "version": "3.6.1"
  }
 },
 "nbformat": 4,
 "nbformat_minor": 2
}
